{
 "cells": [
  {
   "cell_type": "markdown",
   "id": "68c30f3f-e1ba-4dd1-9d71-96ec06dddcba",
   "metadata": {},
   "source": [
    "Practice on basics"
   ]
  },
  {
   "cell_type": "code",
   "execution_count": 19,
   "id": "107b676c-b536-4532-9d95-afb66072a2b5",
   "metadata": {},
   "outputs": [
    {
     "name": "stdout",
     "output_type": "stream",
     "text": [
      "123456789 246913578\n"
     ]
    }
   ],
   "source": [
    "my_variable = 123456789\n",
    "my_variable_times2 = my_variable * 2\n",
    "print(my_variable, my_variable_times2)"
   ]
  },
  {
   "cell_type": "code",
   "execution_count": 2,
   "id": "b9ec68bf-16a8-45a7-b1ba-645ac7cb07c2",
   "metadata": {},
   "outputs": [
    {
     "name": "stdout",
     "output_type": "stream",
     "text": [
      "[4, -1, 2, -3, 3]  before\n"
     ]
    }
   ],
   "source": [
    "my_list = [4, -1, 2, -3, 3]\n",
    "print(my_list, \" before\")"
   ]
  },
  {
   "cell_type": "code",
   "execution_count": 3,
   "id": "e2df9c06-bf76-4a08-883d-28de43d373a9",
   "metadata": {},
   "outputs": [
    {
     "name": "stdout",
     "output_type": "stream",
     "text": [
      "[-3, -1, 2, 3, 4]  after\n"
     ]
    }
   ],
   "source": [
    "my_list[0] = -3\n",
    "my_list[3] = 3\n",
    "my_list[4] = 4\n",
    "print(my_list, \" after\")"
   ]
  },
  {
   "cell_type": "code",
   "execution_count": 4,
   "id": "fe2fa8c3-d7c1-4766-862d-fa066a3de6e9",
   "metadata": {},
   "outputs": [
    {
     "name": "stdout",
     "output_type": "stream",
     "text": [
      "[-3, -1]\n"
     ]
    }
   ],
   "source": [
    "print(my_list[0:2])"
   ]
  },
  {
   "cell_type": "code",
   "execution_count": 5,
   "id": "4b1d88a7-0977-4028-bb57-59fef524d601",
   "metadata": {},
   "outputs": [
    {
     "name": "stdout",
     "output_type": "stream",
     "text": [
      "5\n"
     ]
    }
   ],
   "source": [
    "print(len(my_list))"
   ]
  },
  {
   "cell_type": "code",
   "execution_count": 6,
   "id": "384b4adc-762d-4c02-8797-93cd294dc1bc",
   "metadata": {},
   "outputs": [
    {
     "name": "stdout",
     "output_type": "stream",
     "text": [
      "[-3, -1, 2, 3, 4, -2, 0, 1]\n"
     ]
    }
   ],
   "source": [
    "my_list = my_list + [-2, 0, 1]\n",
    "#alternative example: \n",
    "#my_list.append(-2)\n",
    "#my_list.append(0)\n",
    "#my_list.append(1)\n",
    "print(my_list)"
   ]
  },
  {
   "cell_type": "code",
   "execution_count": 7,
   "id": "60122e8e-a755-4891-8799-bcc1b3822061",
   "metadata": {},
   "outputs": [
    {
     "name": "stdout",
     "output_type": "stream",
     "text": [
      "fiat\n",
      "frank cafferty\n"
     ]
    }
   ],
   "source": [
    "dict = {\"name\" : \"frank cafferty\", \"car\" : \"fiat\", \"age\" : 120}\n",
    "\n",
    "print(dict[\"car\"])\n",
    "dict[\"name\"] = \"frank\"\n",
    "dict[\"surname\"] = \"cafferty\"\n",
    "print(dict[\"name\"], dict[\"surname\"])"
   ]
  },
  {
   "cell_type": "code",
   "execution_count": 8,
   "id": "0aec15ca-8595-42b4-9b81-dc2b9ab31273",
   "metadata": {},
   "outputs": [
    {
     "name": "stdout",
     "output_type": "stream",
     "text": [
      "{'name': 'frank', 'car': 'fiat', 'age': 120, 'surname': 'cafferty', 'emoji': 'thumbs up', 'age_now': 130}\n",
      "age_diff = 10\n"
     ]
    }
   ],
   "source": [
    "dict[\"emoji\"] = \"thumbs up\"\n",
    "dict[\"age_now\"] = 130\n",
    "print(dict)\n",
    "age_diff = dict[\"age_now\"]-dict[\"age\"]\n",
    "print(\"age_diff =\", age_diff)"
   ]
  },
  {
   "cell_type": "markdown",
   "id": "4a10c2e1-51a3-4259-ac65-7e5b8e8d7a9b",
   "metadata": {},
   "source": [
    "Practice with Operators Below"
   ]
  },
  {
   "cell_type": "code",
   "execution_count": 28,
   "id": "4a78eac0-4924-428e-be84-ff9d5dba8b1f",
   "metadata": {},
   "outputs": [
    {
     "name": "stdout",
     "output_type": "stream",
     "text": [
      "it would take  6.0 days and  12.25 hours\n"
     ]
    }
   ],
   "source": [
    "#How long will it take to walk from Paris to Marseille at 4.8km/h?\n",
    "distance = 750\n",
    "speed = 4.8\n",
    "time = distance/speed\n",
    "days = time//24\n",
    "hours = time%24\n",
    "\n",
    "print(\"it would take \", days, \"days and \", hours, \"hours\")"
   ]
  },
  {
   "cell_type": "code",
   "execution_count": 32,
   "id": "51d734c1-5b8f-44e4-a8c7-6700cb1206b9",
   "metadata": {},
   "outputs": [
    {
     "name": "stdout",
     "output_type": "stream",
     "text": [
      "6\n",
      "6\n"
     ]
    }
   ],
   "source": [
    "\"\"\"A magician says that if:\n",
    "We choose a prime number different from 2 and 3.\n",
    "We square it.\n",
    "We add 17 to it.\n",
    "We divide it by 12 and we keep the remainder of this division, then the remainder of this division is 6.\n",
    "Check that the magician is correct for the prime numbers 5 and 23.\n",
    "\"\"\"\n",
    "x = 5\n",
    "y = 23\n",
    "\n",
    "#checking x\n",
    "x **= 2\n",
    "x += 17\n",
    "x %= 12\n",
    "\n",
    "#checking y\n",
    "y **= 2\n",
    "y += 17\n",
    "y %= 12\n",
    "\n",
    "print(x)\n",
    "print(y)\n",
    "\n",
    "#both are 6"
   ]
  },
  {
   "cell_type": "code",
   "execution_count": 36,
   "id": "eb295752-2c20-4eb7-a211-4009fcdde14d",
   "metadata": {},
   "outputs": [
    {
     "name": "stdout",
     "output_type": "stream",
     "text": [
      "True\n"
     ]
    }
   ],
   "source": [
    "#In one line of code, determine by a boolean value if 7 divides into 3**7+2**14\n",
    "print((3**7 + 2**14) % 7 == 0)"
   ]
  },
  {
   "cell_type": "code",
   "execution_count": 38,
   "id": "18aca878-dd82-4205-8a00-cb0b40fad945",
   "metadata": {},
   "outputs": [],
   "source": [
    "#Instantiating extract variable\n",
    "extract = ['Brazil,', 'the', 'only', 'team', 'to', 'have', 'played', 'in', 'all', 'the', 'final', \n",
    "           'stages', 'of', 'the', 'competition,', 'holds', 'the', 'record', 'with', 'five', 'world', \n",
    "           'titles', 'and', 'won', 'the', 'right', 'to', 'retain', 'the', 'Jules-Rimet', 'Cup', 'in', \n",
    "           '1970', 'after', 'its', '3rd', 'final', 'victory', 'in', 'the', 'competition,', 'with', 'Pelé', \n",
    "           'only', 'triple', 'world', 'champion', 'player.', 'Italy', 'and', 'Germany', 'have', 'four', \n",
    "           'trophies.', 'Uruguay,', 'home', 'winners', 'of', 'the', 'first', 'edition,', 'Argentina', \n",
    "           'and', 'France', 'each', 'won', 'the', 'Cup', 'twice,', 'England', 'and', 'Spain', 'once.', \n",
    "           'The', 'last', 'edition', 'took', 'place', 'in', 'Russia', 'in', '2018,', 'the', 'next', \n",
    "           'one', 'is', 'due', 'to', 'take', 'place', 'in', 'Qatar', 'in', '2022.', 'That', 'of', \n",
    "           '2026,', 'in', 'the', 'United', 'States,', 'Canada', 'and', 'Mexico)', 'will', 'be', \n",
    "           'the', 'first', 'edition', 'with', '48', 'participating', 'teams.', 'The', 'FIFA', \n",
    "           'World', 'Cup', 'is', 'the', 'most', 'watched', 'sporting', 'event', 'on', 'television', \n",
    "           'in', 'the', 'world', 'along', 'with', 'the', 'Olympics', 'and', 'the', 'Cricket', 'World', 'Cup.']\n"
   ]
  },
  {
   "cell_type": "code",
   "execution_count": 42,
   "id": "7d900166-356e-4358-866f-ff5e206467ce",
   "metadata": {},
   "outputs": [
    {
     "name": "stdout",
     "output_type": "stream",
     "text": [
      "True\n",
      "True\n"
     ]
    }
   ],
   "source": [
    "# In one line of code, determine if \"France\" is mentioned in this extract.\n",
    "# In another line check that \"Croatia\" is not mentioned in the extract.\n",
    "print(\"France\" in extract)\n",
    "print(\"Croatia\" not in extract)"
   ]
  },
  {
   "cell_type": "code",
   "execution_count": 57,
   "id": "e0a9cba5-68c3-427c-879d-21bf20bbf871",
   "metadata": {},
   "outputs": [
    {
     "name": "stdout",
     "output_type": "stream",
     "text": [
      "False\n",
      "False\n",
      "True\n",
      "False\n",
      "False\n",
      "False\n"
     ]
    }
   ],
   "source": [
    "emp1 = {\"name\":\"Bernadette\", \"seniority\":12, \"salary\":2400}\n",
    "emp2 = {\"name\":\"Mark\", \"seniority\":6, \"salary\":1490}\n",
    "\n",
    "#Bernadette\n",
    "criterion1_emp1 = (emp1[\"seniority\"] < 5 and emp1[\"salary\"] < 1500)\n",
    "print(criterion1_emp1) #False\n",
    "criterion2_emp1 = ((emp1[\"seniority\"] >= 5 and emp1[\"seniority\"] <= 10) and (emp1[\"salary\"] >= 1500 and emp1[\"salary\"] <= 2300))\n",
    "print(criterion2_emp1) #False\n",
    "criterion3_emp1 = ((emp1[\"seniority\"] > 10) and (emp1[\"salary\"] < 1500 or emp1[\"salary\"] > 2300))\n",
    "print(criterion3_emp1) #True\n",
    "\n",
    "#Mark\n",
    "criterion1_emp2 = (emp2[\"seniority\"] < 5 and emp2[\"salary\"] < 1500)\n",
    "print(criterion1_emp2) #False\n",
    "criterion2_emp2 = ((emp2[\"seniority\"] >= 5 and emp2[\"seniority\"] <= 10) and (emp2[\"salary\"] >= 1500 and emp2[\"salary\"] <= 2300))\n",
    "print(criterion2_emp2) #False\n",
    "criterion3_emp2 = ((emp2[\"seniority\"] > 10) and (emp2[\"salary\"] < 1500 or emp2[\"salary\"] > 2300))\n",
    "print(criterion3_emp2) #False"
   ]
  },
  {
   "cell_type": "code",
   "execution_count": 61,
   "id": "27f9d682-5aad-4662-a5b2-f87ffc06b1f3",
   "metadata": {},
   "outputs": [
    {
     "name": "stdout",
     "output_type": "stream",
     "text": [
      "positive\n"
     ]
    }
   ],
   "source": [
    "#number = -2\n",
    "number = 6\n",
    "if number < 0:\n",
    "    print(\"negative\")\n",
    "elif number > 0:\n",
    "    print(\"positive\")\n",
    "else:\n",
    "    print(\"number is zero\")"
   ]
  },
  {
   "cell_type": "code",
   "execution_count": null,
   "id": "952f9374-1236-413f-8dfe-682b9dc5b48c",
   "metadata": {},
   "outputs": [],
   "source": []
  }
 ],
 "metadata": {
  "kernelspec": {
   "display_name": "Python 3 (ipykernel)",
   "language": "python",
   "name": "python3"
  },
  "language_info": {
   "codemirror_mode": {
    "name": "ipython",
    "version": 3
   },
   "file_extension": ".py",
   "mimetype": "text/x-python",
   "name": "python",
   "nbconvert_exporter": "python",
   "pygments_lexer": "ipython3",
   "version": "3.12.4"
  }
 },
 "nbformat": 4,
 "nbformat_minor": 5
}
