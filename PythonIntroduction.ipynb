{
 "cells": [
  {
   "cell_type": "code",
   "execution_count": 35,
   "id": "1ed1dbe1-a920-4deb-a729-4ddd5a8505f0",
   "metadata": {},
   "outputs": [
    {
     "name": "stdout",
     "output_type": "stream",
     "text": [
      "123456789 246913578\n"
     ]
    }
   ],
   "source": [
    "my_variable = 123456789\n",
    "my_variable_times2 = my_variable * 2\n",
    "print(my_variable, my_variable_times2)"
   ]
  },
  {
   "cell_type": "code",
   "execution_count": 36,
   "id": "b9ec68bf-16a8-45a7-b1ba-645ac7cb07c2",
   "metadata": {},
   "outputs": [
    {
     "name": "stdout",
     "output_type": "stream",
     "text": [
      "[4, -1, 2, -3, 3]  before\n"
     ]
    }
   ],
   "source": [
    "my_list = [4, -1, 2, -3, 3]\n",
    "print(my_list, \" before\")"
   ]
  },
  {
   "cell_type": "code",
   "execution_count": 37,
   "id": "e2df9c06-bf76-4a08-883d-28de43d373a9",
   "metadata": {},
   "outputs": [
    {
     "name": "stdout",
     "output_type": "stream",
     "text": [
      "[-3, -1, 2, 3, 4]  after\n"
     ]
    }
   ],
   "source": [
    "my_list[0] = -3\n",
    "my_list[3] = 3\n",
    "my_list[4] = 4\n",
    "print(my_list, \" after\")"
   ]
  },
  {
   "cell_type": "code",
   "execution_count": 38,
   "id": "fe2fa8c3-d7c1-4766-862d-fa066a3de6e9",
   "metadata": {},
   "outputs": [
    {
     "name": "stdout",
     "output_type": "stream",
     "text": [
      "[-3, -1]\n"
     ]
    }
   ],
   "source": [
    "print(my_list[0:2])"
   ]
  },
  {
   "cell_type": "code",
   "execution_count": 39,
   "id": "4b1d88a7-0977-4028-bb57-59fef524d601",
   "metadata": {},
   "outputs": [
    {
     "name": "stdout",
     "output_type": "stream",
     "text": [
      "5\n"
     ]
    }
   ],
   "source": [
    "print(len(my_list))"
   ]
  },
  {
   "cell_type": "code",
   "execution_count": 45,
   "id": "384b4adc-762d-4c02-8797-93cd294dc1bc",
   "metadata": {},
   "outputs": [
    {
     "name": "stdout",
     "output_type": "stream",
     "text": [
      "[-3, -1, 2, 3, 4, -2, 0, 1]\n"
     ]
    }
   ],
   "source": [
    "my_list = my_list + [-2, 0, 1]\n",
    "#alternative example: \n",
    "#my_list.append(-2)\n",
    "#my_list.append(0)\n",
    "#my_list.append(1)\n",
    "print(my_list)"
   ]
  },
  {
   "cell_type": "code",
   "execution_count": 63,
   "id": "60122e8e-a755-4891-8799-bcc1b3822061",
   "metadata": {},
   "outputs": [
    {
     "name": "stdout",
     "output_type": "stream",
     "text": [
      "fiat wanko\n",
      "wank cafferty\n"
     ]
    }
   ],
   "source": [
    "dict = {\"name\" : \"wank cafferty\", \"car\" : \"fiat wanko\", \"age\" : 120}\n",
    "\n",
    "print(dict[\"car\"])\n",
    "dict[\"name\"] = \"wank\"\n",
    "dict[\"surname\"] = \"cafferty\"\n",
    "print(dict[\"name\"], dict[\"surname\"])"
   ]
  },
  {
   "cell_type": "code",
   "execution_count": 67,
   "id": "0aec15ca-8595-42b4-9b81-dc2b9ab31273",
   "metadata": {},
   "outputs": [
    {
     "name": "stdout",
     "output_type": "stream",
     "text": [
      "{'name': 'wank', 'car': 'fiat wanko', 'age': 120, 'surname': 'cafferty', 'emoji': 'thumbs up', 'age_now': 130}\n",
      "age_diff = 10\n"
     ]
    }
   ],
   "source": [
    "dict[\"emoji\"] = \"thumbs up\"\n",
    "dict[\"age_now\"] = 130\n",
    "print(dict)\n",
    "age_diff = dict[\"age_now\"]-dict[\"age\"]\n",
    "print(\"age_diff =\", age_diff)"
   ]
  },
  {
   "cell_type": "code",
   "execution_count": null,
   "id": "bc7923e6-4d47-4515-b5d0-9b3c078405b9",
   "metadata": {},
   "outputs": [],
   "source": []
  }
 ],
 "metadata": {
  "kernelspec": {
   "display_name": "Python 3 (ipykernel)",
   "language": "python",
   "name": "python3"
  },
  "language_info": {
   "codemirror_mode": {
    "name": "ipython",
    "version": 3
   },
   "file_extension": ".py",
   "mimetype": "text/x-python",
   "name": "python",
   "nbconvert_exporter": "python",
   "pygments_lexer": "ipython3",
   "version": "3.12.4"
  }
 },
 "nbformat": 4,
 "nbformat_minor": 5
}
